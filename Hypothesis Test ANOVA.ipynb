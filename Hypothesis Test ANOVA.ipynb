{
 "cells": [
  {
   "cell_type": "markdown",
   "metadata": {},
   "source": [
    "<h1> Analysis of variance (ANOVA)</h1>\n",
    "<br> 1. Compare two variances\n",
    "<br> 2. Comparing Various mean ( One way Anova)\n",
    "<br> 3. statsmodel package"
   ]
  },
  {
   "cell_type": "code",
   "execution_count": 1,
   "metadata": {},
   "outputs": [],
   "source": [
    "# Loading libraries\n",
    "import numpy as np\n",
    "import pandas as pd\n",
    "from matplotlib import pyplot\n",
    "from scipy import stats\n",
    "import statsmodels.api as sm\n",
    "from statsmodels.formula.api import ols"
   ]
  },
  {
   "cell_type": "markdown",
   "metadata": {},
   "source": [
    "<h2> 1. Compare two variances"
   ]
  },
  {
   "cell_type": "markdown",
   "metadata": {},
   "source": [
    "<b> F Distribution </b>\n",
    "<br>1. Not symetrical Skewed to the right\n",
    "<br>2. Different shape based on df\n",
    "<br>3. Fraction between two sets of df\n",
    "$$\n",
    "\\frac{df_{n1}}{df_{n2}}\n",
    "$$\n",
    "<br>4. As df gets larger distribution become normal\n",
    "<br>5. f is never negative\n",
    "<br><br><b> F statistics</b>\n",
    "$$\n",
    "F = \\frac{s_1^2}{s_2^2}\n",
    "$$\n",
    "<br>"
   ]
  },
  {
   "cell_type": "markdown",
   "metadata": {},
   "source": [
    "<b> pRoblem:</b> quality control is interested in the variance of two machines making clothes. first makes 32 clothes with length variance of 4.1 cm and second makes 37 clothes with length variance of 3.7 cm. At alpha = 0.05 , can  quality control conculde that first machine has higher variance?\n",
    "<br><br><b> Ho : </b> first variance = second variance \n",
    "<br><b> Ha : </b> first variance > second variance"
   ]
  },
  {
   "cell_type": "code",
   "execution_count": 2,
   "metadata": {},
   "outputs": [
    {
     "name": "stdout",
     "output_type": "stream",
     "text": [
      "----------- Result P Value f distribution ---------\n",
      "F_statistics : 1.108108108108108\n",
      "P_value : 0.38094161558495476\n",
      "alpha : 0.05\n",
      "Conclusion : Fail to reject H0\n"
     ]
    }
   ],
   "source": [
    "var_first = 4.1\n",
    "n_first  = 32\n",
    "df_first = 31\n",
    "\n",
    "var_second  = 3.7\n",
    "n_second = 37\n",
    "df_second  = 36\n",
    "\n",
    "f_stat = var_first / var_second\n",
    "alpha = 0.05\n",
    "\n",
    "p_value = 1 - stats.f.cdf(x= f_stat, dfn= df_first, dfd=df_second,loc=0, scale=1)\n",
    "\n",
    "print('----------- Result P Value f distribution ---------')\n",
    "print('F_statistics :',f_stat)\n",
    "print('P_value :', p_value)\n",
    "print('alpha :', alpha)\n",
    "print ('Conclusion : Fail to reject H0' if p_value > alpha else 'Conclusion : Reject H0')"
   ]
  },
  {
   "cell_type": "markdown",
   "metadata": {},
   "source": [
    "<h2> 2. Comparing multiple means</h2>\n",
    "<br><b> Ho :</b> mean1 = mean2 = mean3 = mean4 ...\n",
    "<br><b> Ha : </b> Atleast one mean is different\n"
   ]
  },
  {
   "cell_type": "code",
   "execution_count": 3,
   "metadata": {},
   "outputs": [],
   "source": [
    "np.random.seed(10)\n",
    "voter_race = np.random.choice(a = ['asian','black','hispanic','other','white'],\n",
    "                              p =[0.05,0.15,0.25,0.05,0.5],size = 1000)\n",
    "\n",
    "voter_age = stats.poisson.rvs(loc = 18, mu= 30,size = 1000)\n",
    "\n",
    "voter = pd.DataFrame({'race':voter_race, 'age': voter_age})\n",
    "groups = voter.groupby('race').groups\n",
    "\n",
    "# indivisual groups\n",
    "asian = voter_age[groups['asian']]\n",
    "black = voter_age[groups['black']]\n",
    "hispanic = voter_age[groups['hispanic']]\n",
    "other = voter_age[groups['other']]\n",
    "white = voter_age[groups['white']]"
   ]
  },
  {
   "cell_type": "markdown",
   "metadata": {},
   "source": [
    "<h3> Stats package oneway ANOVA  ( F distribution)"
   ]
  },
  {
   "cell_type": "code",
   "execution_count": 4,
   "metadata": {},
   "outputs": [
    {
     "name": "stdout",
     "output_type": "stream",
     "text": [
      "----------- Result P Value f distribution ---------\n",
      "P_value : 0.25239557668570217\n",
      "alpha : 0.05\n",
      "Conclusion : Fail to reject H0\n"
     ]
    }
   ],
   "source": [
    "alpha = 0.05\n",
    "f_statistics,p_value = stats.f_oneway(asian,black,hispanic,other,white)\n",
    "\n",
    "print('----------- Result P Value f distribution ---------')\n",
    "print('P_value :', p_value)\n",
    "print('alpha :', alpha)\n",
    "print ('Conclusion : Fail to reject H0' if p_value > alpha else 'Conclusion : Reject H0')"
   ]
  },
  {
   "cell_type": "markdown",
   "metadata": {},
   "source": [
    "<h3> Statsmodels one-way ANOVA"
   ]
  },
  {
   "cell_type": "code",
   "execution_count": 5,
   "metadata": {},
   "outputs": [
    {
     "name": "stdout",
     "output_type": "stream",
     "text": [
      "             df        sum_sq    mean_sq         F    PR(>F)\n",
      "race        4.0    159.127583  39.781896  1.342037  0.252396\n",
      "Residual  995.0  29494.703417  29.642918       NaN       NaN \n",
      "\n",
      "----------- Result P Value statsmodels regression ---------\n",
      "P_value : 0.25239557668570217\n",
      "alpha : 0.05\n",
      "Conclusion : Fail to reject H0\n"
     ]
    }
   ],
   "source": [
    "alpha = 0.05\n",
    "model= ols('age ~ race', data = voter).fit()\n",
    "anova_result = sm.stats.anova_lm(model, type =2)\n",
    "\n",
    "p_value = anova_result.iloc[0,[4]][0]\n",
    "\n",
    "print(anova_result, '\\n')\n",
    "print('----------- Result P Value statsmodels regression ---------')\n",
    "print('P_value :', p_value)\n",
    "print('alpha :', alpha)\n",
    "print ('Conclusion : Fail to reject H0' if p_value > alpha else 'Conclusion : Reject H0')\n"
   ]
  }
 ],
 "metadata": {
  "kernelspec": {
   "display_name": "Python 3",
   "language": "python",
   "name": "python3"
  },
  "language_info": {
   "codemirror_mode": {
    "name": "ipython",
    "version": 3
   },
   "file_extension": ".py",
   "mimetype": "text/x-python",
   "name": "python",
   "nbconvert_exporter": "python",
   "pygments_lexer": "ipython3",
   "version": "3.6.4"
  }
 },
 "nbformat": 4,
 "nbformat_minor": 2
}
