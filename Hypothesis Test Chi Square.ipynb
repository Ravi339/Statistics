{
 "cells": [
  {
   "cell_type": "markdown",
   "metadata": {},
   "source": [
    "<h1>Chi Square Test </h1>\n",
    "<br><b> 1. Goodness of fit\n",
    "<br> 2. Test for independence "
   ]
  },
  {
   "cell_type": "markdown",
   "metadata": {},
   "source": [
    "<b> Test statistics </b>\n",
    "$$\n",
    "\\chi^2 = \\sum \\frac{(O - E)^2}{E}\n",
    "$$\n",
    "O = Observed frequency\n",
    "<br>E = Estimated frequency"
   ]
  },
  {
   "cell_type": "code",
   "execution_count": 1,
   "metadata": {},
   "outputs": [],
   "source": [
    "# loading packages\n",
    "import numpy as np\n",
    "from scipy import stats\n",
    "import pandas as pd"
   ]
  },
  {
   "cell_type": "markdown",
   "metadata": {},
   "source": [
    "<b> Problem : </b> Is distribution of spoken language in Paris and France is similar\n",
    "<br><br><b>H0 : </b> data fits the distribution\n",
    "<br><b> Ha : </b> data doesn't fit the distribution ( generally right tailed test)\n",
    "<br><br><b> df </b>= number of categories minus 1"
   ]
  },
  {
   "cell_type": "code",
   "execution_count": 2,
   "metadata": {},
   "outputs": [
    {
     "data": {
      "text/html": [
       "<div>\n",
       "<style scoped>\n",
       "    .dataframe tbody tr th:only-of-type {\n",
       "        vertical-align: middle;\n",
       "    }\n",
       "\n",
       "    .dataframe tbody tr th {\n",
       "        vertical-align: top;\n",
       "    }\n",
       "\n",
       "    .dataframe thead th {\n",
       "        text-align: right;\n",
       "    }\n",
       "</style>\n",
       "<table border=\"1\" class=\"dataframe\">\n",
       "  <thead>\n",
       "    <tr style=\"text-align: right;\">\n",
       "      <th>col_0</th>\n",
       "      <th>count</th>\n",
       "    </tr>\n",
       "    <tr>\n",
       "      <th>0</th>\n",
       "      <th></th>\n",
       "    </tr>\n",
       "  </thead>\n",
       "  <tbody>\n",
       "    <tr>\n",
       "      <th>Englis</th>\n",
       "      <td>300</td>\n",
       "    </tr>\n",
       "    <tr>\n",
       "      <th>French</th>\n",
       "      <td>600</td>\n",
       "    </tr>\n",
       "    <tr>\n",
       "      <th>italian</th>\n",
       "      <td>75</td>\n",
       "    </tr>\n",
       "    <tr>\n",
       "      <th>others</th>\n",
       "      <td>150</td>\n",
       "    </tr>\n",
       "    <tr>\n",
       "      <th>spanish</th>\n",
       "      <td>250</td>\n",
       "    </tr>\n",
       "  </tbody>\n",
       "</table>\n",
       "</div>"
      ],
      "text/plain": [
       "col_0    count\n",
       "0             \n",
       "Englis     300\n",
       "French     600\n",
       "italian     75\n",
       "others     150\n",
       "spanish    250"
      ]
     },
     "execution_count": 2,
     "metadata": {},
     "output_type": "execute_result"
    }
   ],
   "source": [
    "# creating data\n",
    "france = pd.DataFrame( ['French'] * 100000 + ['Englis'] * 60000 + ['spanish'] * 50000 \\\n",
    "                      + ['italian'] * 15000 + ['others'] * 35000)\n",
    "\n",
    "paris = pd.DataFrame(['French'] * 600 + ['Englis'] * 300 + ['spanish'] * 250 \\\n",
    "                      + ['italian'] * 75 + ['others'] * 150)\n",
    "\n",
    "france_table = pd.crosstab (index = france[0], columns='count')\n",
    "paris_table = pd.crosstab (index = paris[0], columns='count')\n",
    "paris_table"
   ]
  },
  {
   "cell_type": "markdown",
   "metadata": {},
   "source": [
    "<h3> Using formula"
   ]
  },
  {
   "cell_type": "code",
   "execution_count": 3,
   "metadata": {},
   "outputs": [
    {
     "name": "stdout",
     "output_type": "stream",
     "text": [
      "Degree of Freddom :  4\n",
      "col_0\n",
      "count    18.194805\n",
      "dtype: float64\n"
     ]
    }
   ],
   "source": [
    "observed = paris_table # Observed values\n",
    "\n",
    "france_ratio  = france_table / len(france)\n",
    "expected  = france_ratio * len(paris) # Expected values\n",
    "\n",
    "chi_square_stats = (((observed - expected)**2) / expected).sum() # chi square stats \n",
    "df = paris_table.shape[0] - 1 # degree of freedom\n",
    "\n",
    "print('Degree of Freddom : ', df)\n",
    "print(chi_square_stats)"
   ]
  },
  {
   "cell_type": "code",
   "execution_count": 4,
   "metadata": {},
   "outputs": [
    {
     "name": "stdout",
     "output_type": "stream",
     "text": [
      "----------- Result based on P Value ---------\n",
      "P_value : [0.00113047]\n",
      "alpha : 0.05\n",
      "Conclusion : Reject H0\n",
      "\n",
      "----------- Result based on statistics Value ---------\n",
      "Statistics : 18.194805194805173\n",
      "Critical value : 9.487729036781154\n",
      "Conclusion : Reject H0\n"
     ]
    }
   ],
   "source": [
    "alpha = 0.05\n",
    "p_value = 1 - stats.chi2.cdf(x = chi_square_stats,\n",
    "                             df = df)\n",
    "\n",
    "print('----------- Result based on P Value ---------')\n",
    "print('P_value :', p_value)\n",
    "print('alpha :', alpha)\n",
    "print ('Conclusion : Fail to reject H0' if p_value > alpha else 'Conclusion : Reject H0')\n",
    "\n",
    "critical_value = stats.chi2.ppf(q = .95,  # taking critical value for 95% of confidence\n",
    "                                df = df)\n",
    "\n",
    "# test statistics out of quantile of data So we can reject null hypothesis\n",
    "print('')\n",
    "print('----------- Result based on statistics Value ---------')\n",
    "print('Statistics :', chi_square_stats[0])\n",
    "print('Critical value :',critical_value )\n",
    "print ('Conclusion : Fail to reject H0' if chi_square_stats[0] < critical_value else 'Conclusion : Reject H0')"
   ]
  },
  {
   "cell_type": "markdown",
   "metadata": {},
   "source": [
    "<h3> Using stats function"
   ]
  },
  {
   "cell_type": "code",
   "execution_count": 5,
   "metadata": {},
   "outputs": [
    {
     "data": {
      "text/plain": [
       "Power_divergenceResult(statistic=array([18.19480519]), pvalue=array([0.00113047]))"
      ]
     },
     "execution_count": 5,
     "metadata": {},
     "output_type": "execute_result"
    }
   ],
   "source": [
    "stats.chisquare(f_obs = observed,\n",
    "                f_exp = expected)"
   ]
  },
  {
   "cell_type": "markdown",
   "metadata": {},
   "source": [
    "<h2> Test of independence"
   ]
  },
  {
   "cell_type": "markdown",
   "metadata": {},
   "source": [
    "<b>Problem :</b> Is there any relation between race and political party for which they voted\n",
    "\n",
    "<br><b>H0 :</b> No relation between race and voted political party\n",
    "<br><b>Ha :</b> There is relation between race and voted polical party\n",
    "<br><br><b>df =</b> (number of rows - 1) * (number pf cols -1)"
   ]
  },
  {
   "cell_type": "markdown",
   "metadata": {},
   "source": [
    "<h3> Using formula"
   ]
  },
  {
   "cell_type": "code",
   "execution_count": 6,
   "metadata": {},
   "outputs": [],
   "source": [
    "# Creating data\n",
    "np.random.seed(10)\n",
    "voter_race = np.random.choice(a = ['asian','black','hispanic','other','white'],\n",
    "                              p =[0.05,0.15,0.25,0.05,0.5],\n",
    "                              size = 1000)\n",
    "pol_party = np.random.choice(a = ['democrat','independent','republican'],\n",
    "                         p = [0.4,0.2,0.4],\n",
    "                         size = 1000)"
   ]
  },
  {
   "cell_type": "code",
   "execution_count": 7,
   "metadata": {},
   "outputs": [
    {
     "data": {
      "text/html": [
       "<div>\n",
       "<style scoped>\n",
       "    .dataframe tbody tr th:only-of-type {\n",
       "        vertical-align: middle;\n",
       "    }\n",
       "\n",
       "    .dataframe tbody tr th {\n",
       "        vertical-align: top;\n",
       "    }\n",
       "\n",
       "    .dataframe thead th {\n",
       "        text-align: right;\n",
       "    }\n",
       "</style>\n",
       "<table border=\"1\" class=\"dataframe\">\n",
       "  <thead>\n",
       "    <tr style=\"text-align: right;\">\n",
       "      <th></th>\n",
       "      <th>democrat</th>\n",
       "      <th>independent</th>\n",
       "      <th>republican</th>\n",
       "      <th>row_total</th>\n",
       "    </tr>\n",
       "  </thead>\n",
       "  <tbody>\n",
       "    <tr>\n",
       "      <th>asian</th>\n",
       "      <td>21</td>\n",
       "      <td>7</td>\n",
       "      <td>32</td>\n",
       "      <td>60</td>\n",
       "    </tr>\n",
       "    <tr>\n",
       "      <th>black</th>\n",
       "      <td>65</td>\n",
       "      <td>25</td>\n",
       "      <td>64</td>\n",
       "      <td>154</td>\n",
       "    </tr>\n",
       "    <tr>\n",
       "      <th>hispanic</th>\n",
       "      <td>107</td>\n",
       "      <td>50</td>\n",
       "      <td>94</td>\n",
       "      <td>251</td>\n",
       "    </tr>\n",
       "    <tr>\n",
       "      <th>other</th>\n",
       "      <td>15</td>\n",
       "      <td>8</td>\n",
       "      <td>15</td>\n",
       "      <td>38</td>\n",
       "    </tr>\n",
       "    <tr>\n",
       "      <th>white</th>\n",
       "      <td>189</td>\n",
       "      <td>96</td>\n",
       "      <td>212</td>\n",
       "      <td>497</td>\n",
       "    </tr>\n",
       "    <tr>\n",
       "      <th>col_total</th>\n",
       "      <td>397</td>\n",
       "      <td>186</td>\n",
       "      <td>417</td>\n",
       "      <td>1000</td>\n",
       "    </tr>\n",
       "  </tbody>\n",
       "</table>\n",
       "</div>"
      ],
      "text/plain": [
       "           democrat  independent  republican  row_total\n",
       "asian            21            7          32         60\n",
       "black            65           25          64        154\n",
       "hispanic        107           50          94        251\n",
       "other            15            8          15         38\n",
       "white           189           96         212        497\n",
       "col_total       397          186         417       1000"
      ]
     },
     "execution_count": 7,
     "metadata": {},
     "output_type": "execute_result"
    }
   ],
   "source": [
    "voters = pd.DataFrame({'race':voter_race, 'party':pol_party})\n",
    "voters_tab = pd.crosstab(voters.race,voters.party,margins = True)\n",
    "voters_tab.index = ['asian','black','hispanic','other','white','col_total']\n",
    "voters_tab.columns = ['democrat','independent','republican','row_total']\n",
    "voters_tab"
   ]
  },
  {
   "cell_type": "code",
   "execution_count": 8,
   "metadata": {},
   "outputs": [
    {
     "name": "stdout",
     "output_type": "stream",
     "text": [
      "[[ 23.82   11.16   25.02 ]\n",
      " [ 61.138  28.644  64.218]\n",
      " [ 99.647  46.686 104.667]\n",
      " [ 15.086   7.068  15.846]\n",
      " [197.309  92.442 207.249]]\n"
     ]
    }
   ],
   "source": [
    "observed = voters_tab.iloc[0:5,0:3]\n",
    "expected = np.outer(voters_tab['row_total'][0:5], voters_tab.loc['col_total'][0:3]) / 1000\n",
    "# (51 * 383) / 1000 \n",
    "print(expected)"
   ]
  },
  {
   "cell_type": "markdown",
   "metadata": {},
   "source": [
    "<b>Ho = </b> race and party variables are not dependent\n",
    "<br><b> Ha = </b> Both variables are dependent"
   ]
  },
  {
   "cell_type": "code",
   "execution_count": 9,
   "metadata": {},
   "outputs": [
    {
     "name": "stdout",
     "output_type": "stream",
     "text": [
      "----------- Result based on P Value ---------\n",
      "P_value : 0.518479392948842\n",
      "alpha : 0.05\n",
      "Conclusion : Fail to reject H0\n",
      "\n",
      "----------- Result based on statistics Value ---------\n",
      "Statistics : 7.169321280162059\n",
      "Critical value : 15.50731305586545\n",
      "Conclusion : Fail to reject H0\n"
     ]
    }
   ],
   "source": [
    "chi_square_stats = (((observed - expected)**2)/expected).sum().sum()\n",
    "\n",
    "df = (observed.shape[0] -1) * (observed.shape[1] - 1)\n",
    "alpha = 0.05\n",
    "\n",
    "p_value = 1 - stats.chi2.cdf(x = chi_square_stats, df = df)\n",
    "\n",
    "print('----------- Result based on P Value ---------')\n",
    "print('P_value :', p_value)\n",
    "print('alpha :', alpha)\n",
    "print ('Conclusion : Fail to reject H0' if p_value > alpha else 'Conclusion : Reject H0')\n",
    "\n",
    "critical_value = stats.chi2.ppf(q = .95,  # taking critical value for 95% of confidence\n",
    "                                df = df)\n",
    "\n",
    "# test statistics out of quantile of data So we can reject null hypothesis\n",
    "print('')\n",
    "print('----------- Result based on statistics Value ---------')\n",
    "print('Statistics :', chi_square_stats)\n",
    "print('Critical value :',critical_value )\n",
    "print ('Conclusion : Fail to reject H0' if chi_square_stats < critical_value else 'Conclusion : Reject H0')"
   ]
  },
  {
   "cell_type": "markdown",
   "metadata": {},
   "source": [
    "<h3> Using stats module function"
   ]
  },
  {
   "cell_type": "code",
   "execution_count": 10,
   "metadata": {},
   "outputs": [
    {
     "name": "stdout",
     "output_type": "stream",
     "text": [
      "----------- Result based on P Value ---------\n",
      "P_value : 0.518479392948842\n",
      "alpha : 0.05\n",
      "Conclusion : Fail to reject H0\n"
     ]
    }
   ],
   "source": [
    "result = stats.chi2_contingency(observed = observed)\n",
    "chi_square_stats = result [0] \n",
    "p_value = result [1] \n",
    "\n",
    "print('----------- Result based on P Value ---------')\n",
    "print('P_value :', p_value)\n",
    "print('alpha :', alpha)\n",
    "print ('Conclusion : Fail to reject H0' if p_value > alpha else 'Conclusion : Reject H0')"
   ]
  },
  {
   "cell_type": "code",
   "execution_count": null,
   "metadata": {},
   "outputs": [],
   "source": []
  }
 ],
 "metadata": {
  "kernelspec": {
   "display_name": "Python 3",
   "language": "python",
   "name": "python3"
  },
  "language_info": {
   "codemirror_mode": {
    "name": "ipython",
    "version": 3
   },
   "file_extension": ".py",
   "mimetype": "text/x-python",
   "name": "python",
   "nbconvert_exporter": "python",
   "pygments_lexer": "ipython3",
   "version": "3.6.4"
  }
 },
 "nbformat": 4,
 "nbformat_minor": 2
}
