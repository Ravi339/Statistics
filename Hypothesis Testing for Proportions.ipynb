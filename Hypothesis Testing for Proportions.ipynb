{
 "cells": [
  {
   "cell_type": "markdown",
   "metadata": {},
   "source": [
    "# Hypothesis Testing for one & two Proportions\n",
    "\n",
    "<br>1. Test based on P_value formula\n",
    "<br>2. Test based on confidence interval\n",
    "<br>3. Z test (statsmodel)\n",
    "<br>4. Bionomial Test\n",
    "<br>5. Test based on bootstrapping\n",
    "<br>6. Chi Square test"
   ]
  },
  {
   "cell_type": "code",
   "execution_count": 1,
   "metadata": {},
   "outputs": [],
   "source": [
    "# Required libraries\n",
    "import numpy as np\n",
    "from scipy import stats\n",
    "import pandas as pd\n",
    "from statsmodels.stats.proportion import proportions_ztest"
   ]
  },
  {
   "cell_type": "markdown",
   "metadata": {},
   "source": [
    "<h2> Single proportion"
   ]
  },
  {
   "cell_type": "markdown",
   "metadata": {},
   "source": [
    "<p> <b> PROBLEM: Iphone claims 43% of people use iphone. A survey is done : 44 user out of 83 said they use iphone. Statistically verify the claim."
   ]
  },
  {
   "cell_type": "markdown",
   "metadata": {},
   "source": [
    "<h3>Test by using formula"
   ]
  },
  {
   "cell_type": "markdown",
   "metadata": {},
   "source": [
    "<b> Std Error </b>\n",
    "$$\n",
    "std_{error} = \\sqrt{\\frac{\\hat{p}(1-\\hat{p})}{n}}\n",
    "$$\n",
    "<br>\n",
    "<b>Z score :</b>\n",
    "$$\n",
    "Z_{score} = \\frac{\\hat{p} - p}{std_{error}} \n",
    "$$\n",
    "p = population proportion\n",
    "<br>p_hat = sample proportion\n",
    "<br> n = sample size"
   ]
  },
  {
   "cell_type": "code",
   "execution_count": 2,
   "metadata": {},
   "outputs": [
    {
     "name": "stdout",
     "output_type": "stream",
     "text": [
      "----------- Result based on formula ---------\n",
      "P_value : 0.06760942957382698\n",
      "alpha : 0.05\n",
      "Conclusion : Fail to reject H0\n"
     ]
    }
   ],
   "source": [
    "# H0 : p = 0.43 \n",
    "# Ha : p != 0.43 ( two tailed test ) \n",
    "\n",
    "alpha  = 0.05   # critical value upto which null hypothesis will be rejected\n",
    "p = 0.43        # claimed proportion\n",
    "\n",
    "n = 83                   # number of people taken into sample\n",
    "p_survey = 44 / 83       # proportion in the sample\n",
    "q_survey = 1 - p_survey  \n",
    "std_error = np.sqrt( p_survey * q_survey /n )\n",
    "\n",
    "z = (p_survey - p) / std_error\n",
    "\n",
    "# calculate P_value\n",
    "p_value =  ( 1 - stats.norm.cdf(z) ) * 2  # double it as two tailed test\n",
    "\n",
    "\n",
    "print('----------- Result based on formula ---------')\n",
    "print('P_value :', p_value)\n",
    "print('alpha :', alpha)\n",
    "print ('Conclusion : Fail to reject H0' if p_value > alpha else 'Conclusion : Reject H0')\n"
   ]
  },
  {
   "cell_type": "markdown",
   "metadata": {},
   "source": [
    "<h3> Test by using confidence interval"
   ]
  },
  {
   "cell_type": "code",
   "execution_count": 3,
   "metadata": {},
   "outputs": [
    {
     "name": "stdout",
     "output_type": "stream",
     "text": [
      "----------- Result based on confidence interval ---------\n",
      "Claimed Proportion : 0.43\n",
      "interval : (0.42274884004489, 0.6374921238105318)\n",
      "Conclusion : Fail to reject H0\n"
     ]
    }
   ],
   "source": [
    "# z critical for 95% confidence interval \n",
    "z_critical = stats.norm.ppf(0.975)\n",
    "\n",
    "error = z_critical * std_error \n",
    "\n",
    "# Confidence interval is sample proportion +- error\n",
    "low =  p_survey - error\n",
    "high = p_survey + error\n",
    "interval = (low, high)\n",
    "\n",
    "# If Claimed proportion lies between the interval then null hypothesis can't be rejected\n",
    "\n",
    "print('----------- Result based on confidence interval ---------')\n",
    "print(\"Claimed Proportion :\", p)\n",
    "print('interval :',interval)\n",
    "print ('Conclusion : Fail to reject H0' if p > low and p < high  else 'Conclusion : Reject H0')"
   ]
  },
  {
   "cell_type": "markdown",
   "metadata": {},
   "source": [
    "<h3> Using statsmodel Z test for proprtion "
   ]
  },
  {
   "cell_type": "code",
   "execution_count": 4,
   "metadata": {},
   "outputs": [
    {
     "name": "stdout",
     "output_type": "stream",
     "text": [
      "----------- Result based on proportion Z test ---------\n",
      "P_value : 0.06760942957382698\n",
      "alpha : 0.05\n",
      "Conclusion : Fail to reject H0\n"
     ]
    }
   ],
   "source": [
    "statistics , p_value = proportions_ztest(count= 44, nobs = 83, value=0.43, alternative='two-sided')\n",
    "\n",
    "alpha = 0.05\n",
    "\n",
    "print('----------- Result based on proportion Z test ---------')\n",
    "print('P_value :', p_value)\n",
    "print('alpha :', alpha)\n",
    "print ('Conclusion : Fail to reject H0' if p_value > alpha else 'Conclusion : Reject H0')\n"
   ]
  },
  {
   "cell_type": "markdown",
   "metadata": {},
   "source": [
    "<h3> Using single sample T-test & Bionomial Test"
   ]
  },
  {
   "cell_type": "code",
   "execution_count": 5,
   "metadata": {},
   "outputs": [
    {
     "name": "stdout",
     "output_type": "stream",
     "text": [
      "----------- Result based on T single sample test ---------\n",
      "P_value : 0.07293884375456926\n",
      "alpha : 0.05\n",
      "Conclusion : Fail to reject H0\n",
      "\n",
      "----------- Result based on Bionomial test ---------\n",
      "P_value : 0.07571259733234031\n",
      "alpha : 0.05\n",
      "Conclusion : Fail to reject H0\n"
     ]
    }
   ],
   "source": [
    "p = 0.43\n",
    "n = 83\n",
    "alpha = 0.05\n",
    "positive = 44\n",
    "survey = [1] * positive + [0] * (n-positive)\n",
    "\n",
    "result = stats.ttest_1samp(a = survey ,popmean = 0.43)\n",
    "p_value = result.pvalue\n",
    "\n",
    "print('----------- Result based on T single sample test ---------')\n",
    "print('P_value :', p_value)\n",
    "print('alpha :', alpha)\n",
    "print ('Conclusion : Fail to reject H0' if p_value > alpha else 'Conclusion : Reject H0')\n",
    "\n",
    "p_value = stats.binom_test(44, n=83, p = 0.43, alternative='two-sided')\n",
    "print('')\n",
    "print('----------- Result based on Bionomial test ---------')\n",
    "print('P_value :', p_value)\n",
    "print('alpha :', alpha)\n",
    "print ('Conclusion : Fail to reject H0' if p_value > alpha else 'Conclusion : Reject H0')"
   ]
  },
  {
   "cell_type": "markdown",
   "metadata": {},
   "source": [
    "<h3> Test by usning bootstapping"
   ]
  },
  {
   "cell_type": "code",
   "execution_count": 6,
   "metadata": {},
   "outputs": [
    {
     "name": "stdout",
     "output_type": "stream",
     "text": [
      "----------- Result based on random walk ---------\n",
      "P_value : 0.06152000000000002\n",
      "alpha : 0.05\n",
      "Conclusion : Fail to reject H0\n"
     ]
    }
   ],
   "source": [
    "p = 0.43\n",
    "n = 83\n",
    "alpha = 0.05\n",
    "positive = 44\n",
    "survey = [\"Yes\"] * positive + [\"No\"] * (n-positive)\n",
    "\n",
    "n_trials = 100000\n",
    "proportions = []\n",
    "for trial in range(n_trials):\n",
    "    np.random.seed(trial)\n",
    "    sample = list(np.random.choice(survey, size=n, replace= True))\n",
    "    p_sample =  sample.count('Yes')/n\n",
    "    proportions.append(p_sample)\n",
    "    \n",
    "greater = [x for x in proportions if x > p ]\n",
    "p_value  = 2 * ( 1 - len(greater)/n_trials) # two tailed test\n",
    "    \n",
    "print('----------- Result based on random walk ---------')\n",
    "print('P_value :', p_value)\n",
    "print('alpha :', alpha)\n",
    "print ('Conclusion : Fail to reject H0' if p_value > alpha else 'Conclusion : Reject H0')"
   ]
  },
  {
   "cell_type": "markdown",
   "metadata": {},
   "source": [
    "# Two Proportions"
   ]
  },
  {
   "cell_type": "markdown",
   "metadata": {},
   "source": [
    "<p> <b> A resturant wants to know are teens more likely to orders deserts more than old people.In a servey:\n",
    "    <br> 84 out of old 33 order desert\n",
    "    <br> 91 out of teens 46 order desert."
   ]
  },
  {
   "cell_type": "markdown",
   "metadata": {},
   "source": [
    "<h3> Test by using formula </h3>\n",
    "<br> <b> proportion pool </b>\n",
    "$$\n",
    "P_{pool} = \\frac{n_{teen} * p_{teen} + n_{old}* p_{old}}{n_{teen} + n_{old}}\n",
    "$$\n",
    "\n",
    "<br><b> Std Error </b>\n",
    "$$\n",
    "  std_{error} = \\sqrt{P_{pool} * (1-P_{pool}) * (\\frac{1}{n_{teen}} + \\frac{1}{n_{old}})}\n",
    "$$\n",
    "<br><b> Z Score </b>\n",
    "$$\n",
    "Z_{score} = \\frac{p_{teen} - p_{old}}{std_{error}}\n",
    "$$\n",
    "    \n",
    "<br>n = sample size "
   ]
  },
  {
   "cell_type": "code",
   "execution_count": 7,
   "metadata": {},
   "outputs": [
    {
     "name": "stdout",
     "output_type": "stream",
     "text": [
      "----------- Result based on formula ---------\n",
      "P_value : 0.034315818633500306\n",
      "alpha : 0.1\n",
      "Conclusion : Reject H0\n"
     ]
    }
   ],
   "source": [
    "# H0 : p_teen = p_old\n",
    "# Ha : p_teen > p_old\n",
    "\n",
    "alpha = 0.1\n",
    "\n",
    "n_teen = 91\n",
    "x_teen = 46\n",
    "p_teen = x_teen / n_teen\n",
    "\n",
    "n_old = 89\n",
    "x_old = 33\n",
    "p_old = x_old / n_old\n",
    "\n",
    "p_pool = (n_teen * p_teen + n_old *p_old)/ (n_teen + n_old)\n",
    "\n",
    "std_error = np.sqrt( p_pool * (1-p_pool) * (1/n_teen + 1/n_old))\n",
    "\n",
    "z = (p_teen - p_old) / std_error # either use argument in cdf function or Z value\n",
    "p_value = 1 - stats.norm.cdf(z)\n",
    "\n",
    "print('----------- Result based on formula ---------')\n",
    "print('P_value :', p_value)\n",
    "print('alpha :', alpha)\n",
    "print ('Conclusion : Fail to reject H0' if p_value > alpha else 'Conclusion : Reject H0')\n"
   ]
  },
  {
   "cell_type": "code",
   "execution_count": 8,
   "metadata": {},
   "outputs": [
    {
     "name": "stdout",
     "output_type": "stream",
     "text": [
      "----------- Result based on formula ---------\n",
      "P_value : 0.03431581863350027\n",
      "alpha : 0.1\n",
      "Conclusion : Reject H0\n"
     ]
    }
   ],
   "source": [
    "# H0 : p_teen = p_old\n",
    "# Ha : p_teen > p_old\n",
    "\n",
    "alpha = 0.1\n",
    "count_array = np.array([x_teen,x_old])\n",
    "sample_array = np.array([n_teen,n_old])\n",
    "\n",
    "statistics , p_value = proportions_ztest(count= count_array, nobs = sample_array, value= 0, alternative='larger')\n",
    "\n",
    "print('----------- Result based on formula ---------')\n",
    "print('P_value :', p_value)\n",
    "print('alpha :', alpha)\n",
    "print ('Conclusion : Fail to reject H0' if p_value > alpha else 'Conclusion : Reject H0')"
   ]
  },
  {
   "cell_type": "markdown",
   "metadata": {},
   "source": [
    "<h3>Test by using bootstrapping"
   ]
  },
  {
   "cell_type": "code",
   "execution_count": 9,
   "metadata": {},
   "outputs": [
    {
     "name": "stdout",
     "output_type": "stream",
     "text": [
      "----------- Result based on random walk ---------\n",
      "P_value : 0.02393\n",
      "alpha : 0.1\n",
      "Conclusion : Reject H0\n"
     ]
    }
   ],
   "source": [
    "# H0 : p_teen = p_old\n",
    "# Ha : p_teen > p_old\n",
    "\n",
    "# creating servey samples for teen and old customers\n",
    "\n",
    "teen = ['yes'] * 46 + ['no'] * (n_teen - 46) # teen customers\n",
    "old = ['yes'] * 33 + ['no'] * (n_old - 33)   # old customers\n",
    "p_diff =  p_teen - p_old\n",
    "\n",
    "# creating samples and random walk with n_trial\n",
    "\n",
    "prop = []\n",
    "n_trials = 100000\n",
    "mix = teen + old # H0 considers two group to be same so we mix servey result data together\n",
    "\n",
    "for trial in range(n_trials):\n",
    "    np.random.seed(trial)\n",
    "    mix = np.random.permutation(mix)\n",
    "    \n",
    "    mix_teen = list(mix[0:n_teen])  # creating sample from mixed pool with provided number of data points\n",
    "    p_mix_teen = mix_teen.count('yes') / n_teen\n",
    "    \n",
    "    mix_old = list(mix[n_teen:])\n",
    "    p_mix_old = mix_old.count('yes') / n_old\n",
    "    \n",
    "    mix_diff = p_mix_teen - p_mix_old\n",
    "    prop.append(mix_diff)\n",
    "    \n",
    "more = [x for x in prop if x > p_diff]\n",
    "p_value = len(more)/n_trials\n",
    "\n",
    "print('----------- Result based on random walk ---------')\n",
    "print('P_value :', p_value)\n",
    "print('alpha :', alpha)\n",
    "print ('Conclusion : Fail to reject H0' if p_value > alpha else 'Conclusion : Reject H0')"
   ]
  },
  {
   "cell_type": "markdown",
   "metadata": {},
   "source": [
    "<h3> Using Chi Square Test</h3>\n",
    "<br><br><b> Ho : </b> There is no relationship between Age and ordering desert\n",
    "<br><b> Ha :</b> There is relationship between Age and ordering desert"
   ]
  },
  {
   "cell_type": "code",
   "execution_count": 10,
   "metadata": {},
   "outputs": [
    {
     "name": "stdout",
     "output_type": "stream",
     "text": [
      "      No  Yes\n",
      "old   56   33\n",
      "teen  45   46\n",
      "----------- Result based on P Value ---------\n",
      "P_value : 0.09479469022476349\n",
      "alpha : 0.1\n",
      "Conclusion : Reject H0\n"
     ]
    }
   ],
   "source": [
    "teen_respose = ['yes'] * 46 + ['no'] * (n_teen - 46) # teen customers\n",
    "old_response = ['yes'] * 33 + ['no'] * (n_old - 33)   # old customers\n",
    "response = teen_respose + old_response\n",
    "\n",
    "customer = ['teen']* n_teen + ['old']* n_old\n",
    "\n",
    "survey = pd.DataFrame({'customer':customer,'response':response})\n",
    "\n",
    "observed = pd.crosstab(survey.customer,survey.response)\n",
    "observed.index = ['old','teen']\n",
    "observed.columns = ['No','Yes']\n",
    "print(observed)\n",
    "\n",
    "result = stats.chi2_contingency(observed = observed)\n",
    "chi_square_stats = result [0] \n",
    "p_value = result [1] \n",
    "alpha = 0.1\n",
    "print('----------- Result based on P Value ---------')\n",
    "print('P_value :', p_value)\n",
    "print('alpha :', alpha)\n",
    "print ('Conclusion : Fail to reject H0' if p_value > alpha else 'Conclusion : Reject H0')"
   ]
  },
  {
   "cell_type": "code",
   "execution_count": null,
   "metadata": {},
   "outputs": [],
   "source": []
  }
 ],
 "metadata": {
  "kernelspec": {
   "display_name": "Python 3",
   "language": "python",
   "name": "python3"
  },
  "language_info": {
   "codemirror_mode": {
    "name": "ipython",
    "version": 3
   },
   "file_extension": ".py",
   "mimetype": "text/x-python",
   "name": "python",
   "nbconvert_exporter": "python",
   "pygments_lexer": "ipython3",
   "version": "3.6.4"
  }
 },
 "nbformat": 4,
 "nbformat_minor": 2
}
