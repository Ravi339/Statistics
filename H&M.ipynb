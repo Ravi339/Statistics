{
 "cells": [
  {
   "cell_type": "markdown",
   "metadata": {},
   "source": [
    "<h1> Email Subject line A/B Testing</h1>\n",
    "\n",
    "<h3> KPI verified </h3>\n",
    "&emsp; 1. Open Rate <br>\n",
    "&emsp; 2. Click Rate <br>\n",
    "&emsp; 3. Conversion Rate<br>\n",
    "&emsp; 4. Revenue generation\n",
    "\n",
    "<h3> Methods used for Test</h3>\n",
    "&emsp; 1. Proportion Z test<br>\n",
    "&emsp; 2. Independent T test<br> \n",
    "&emsp; 3. Monte carlo Simulation for visualizing distribution of KPIs\n",
    "\n",
    "<h3> Data Preperation consideration</h3>\n",
    "&emsp;1. Removing duplicate customers from Customer dataset :1138 duplicate value ( though have different hash email )<br>\n",
    "&emsp;2. Preparing new variables for revenue and  customers conversion rate<br>\n",
    "&emsp;3. Country wise dataframe for country segment analysis<br>\n",
    "&emsp;4.Conversion rate is 1 if Order ID is not null.<br>\n",
    "&emsp;5. if open rate is 0 then revenue = none even if order Id is present."
   ]
  },
  {
   "cell_type": "markdown",
   "metadata": {},
   "source": [
    "<b> Loading Required packages </b>\n",
    "<br> -----------------------------------------"
   ]
  },
  {
   "cell_type": "code",
   "execution_count": 1,
   "metadata": {},
   "outputs": [],
   "source": [
    "import pandas as pd\n",
    "import numpy as np\n",
    "import matplotlib.pyplot as plt\n",
    "from datetime import timedelta\n",
    "import seaborn as sns\n",
    "from scipy import stats\n",
    "from statsmodels.stats.proportion import proportions_ztest\n",
    "import os\n",
    "import warnings;warnings.filterwarnings('ignore');\n",
    "os.chdir(\"D:\\Python_Data\\H&M_Case_Study\") # Setting working Directory"
   ]
  },
  {
   "cell_type": "markdown",
   "metadata": {},
   "source": [
    "<b> Importing DataSets </b>\n",
    "<br> -----------------------------"
   ]
  },
  {
   "cell_type": "markdown",
   "metadata": {},
   "source": [
    "<p> # Customer Datasets and removing duplicate customers in data (1138 rows) "
   ]
  },
  {
   "cell_type": "code",
   "execution_count": 2,
   "metadata": {},
   "outputs": [
    {
     "name": "stdout",
     "output_type": "stream",
     "text": [
      "Number of duplicate customers : 1138\n"
     ]
    }
   ],
   "source": [
    "# Reading Data\n",
    "customers = pd.read_csv(\"Customers.csv\",sep=\",\")\n",
    "                                                                                                                         \n",
    "# 1138 Customers are duplicate thorugh their email is different ( it is adviced to delete duplicate )\n",
    "# 50001 Unique customers\n",
    "print('Number of duplicate customers :',len(customers['customer_no']) - len(np.unique(customers['customer_no']))) \n",
    "\n",
    "# Droping duplicate values \n",
    "# 582 values get dropped from Broup A and 556 valuesd get droped from Group B\n",
    "\n",
    "customers.drop_duplicates(subset=['customer_no'], keep= False, inplace=True)"
   ]
  },
  {
   "cell_type": "markdown",
   "metadata": {},
   "source": [
    "<p> # Email Engament Data and joining with customer dataset"
   ]
  },
  {
   "cell_type": "code",
   "execution_count": 3,
   "metadata": {},
   "outputs": [],
   "source": [
    "# reading email dataset\n",
    "email = pd.read_csv(\"Email Engagement.csv\",sep=\",\")\n",
    "\n",
    "# merging with customer dataset \n",
    "cust_email = email.merge(customers, on=['hash_email','country'], how='inner')\n",
    "\n",
    "# Deleting hash email column\n",
    "cust_email.drop(labels='hash_email', axis = 1, inplace = True)"
   ]
  },
  {
   "cell_type": "markdown",
   "metadata": {},
   "source": [
    "<p># Reding transaction data and creating new variables"
   ]
  },
  {
   "cell_type": "code",
   "execution_count": 4,
   "metadata": {},
   "outputs": [
    {
     "data": {
      "text/html": [
       "<div>\n",
       "<style scoped>\n",
       "    .dataframe tbody tr th:only-of-type {\n",
       "        vertical-align: middle;\n",
       "    }\n",
       "\n",
       "    .dataframe tbody tr th {\n",
       "        vertical-align: top;\n",
       "    }\n",
       "\n",
       "    .dataframe thead th {\n",
       "        text-align: right;\n",
       "    }\n",
       "</style>\n",
       "<table border=\"1\" class=\"dataframe\">\n",
       "  <thead>\n",
       "    <tr style=\"text-align: right;\">\n",
       "      <th></th>\n",
       "      <th>country</th>\n",
       "      <th>open_rate</th>\n",
       "      <th>click_rate</th>\n",
       "      <th>customer_no</th>\n",
       "      <th>Treatment_Group</th>\n",
       "      <th>t_dat</th>\n",
       "      <th>conversion_rate</th>\n",
       "      <th>revenue</th>\n",
       "    </tr>\n",
       "  </thead>\n",
       "  <tbody>\n",
       "    <tr>\n",
       "      <th>45337</th>\n",
       "      <td>Gilead</td>\n",
       "      <td>0</td>\n",
       "      <td>0</td>\n",
       "      <td>36580340183</td>\n",
       "      <td>Group A</td>\n",
       "      <td>2015-01-01</td>\n",
       "      <td>0</td>\n",
       "      <td>NaN</td>\n",
       "    </tr>\n",
       "    <tr>\n",
       "      <th>53365</th>\n",
       "      <td>Gilead</td>\n",
       "      <td>0</td>\n",
       "      <td>0</td>\n",
       "      <td>58912060985</td>\n",
       "      <td>Group B</td>\n",
       "      <td>2015-01-01</td>\n",
       "      <td>0</td>\n",
       "      <td>NaN</td>\n",
       "    </tr>\n",
       "    <tr>\n",
       "      <th>5430</th>\n",
       "      <td>Atlantis</td>\n",
       "      <td>0</td>\n",
       "      <td>0</td>\n",
       "      <td>54854813240</td>\n",
       "      <td>Group A</td>\n",
       "      <td>2015-01-01</td>\n",
       "      <td>0</td>\n",
       "      <td>NaN</td>\n",
       "    </tr>\n",
       "    <tr>\n",
       "      <th>5431</th>\n",
       "      <td>Atlantis</td>\n",
       "      <td>0</td>\n",
       "      <td>0</td>\n",
       "      <td>54854813240</td>\n",
       "      <td>Group A</td>\n",
       "      <td>2015-01-01</td>\n",
       "      <td>0</td>\n",
       "      <td>NaN</td>\n",
       "    </tr>\n",
       "    <tr>\n",
       "      <th>31109</th>\n",
       "      <td>Gilead</td>\n",
       "      <td>1</td>\n",
       "      <td>0</td>\n",
       "      <td>35458928172</td>\n",
       "      <td>Group B</td>\n",
       "      <td>2015-01-01</td>\n",
       "      <td>1</td>\n",
       "      <td>14.99</td>\n",
       "    </tr>\n",
       "  </tbody>\n",
       "</table>\n",
       "</div>"
      ],
      "text/plain": [
       "        country  open_rate  click_rate  customer_no Treatment_Group  \\\n",
       "45337    Gilead          0           0  36580340183         Group A   \n",
       "53365    Gilead          0           0  58912060985         Group B   \n",
       "5430   Atlantis          0           0  54854813240         Group A   \n",
       "5431   Atlantis          0           0  54854813240         Group A   \n",
       "31109    Gilead          1           0  35458928172         Group B   \n",
       "\n",
       "           t_dat  conversion_rate  revenue  \n",
       "45337 2015-01-01                0      NaN  \n",
       "53365 2015-01-01                0      NaN  \n",
       "5430  2015-01-01                0      NaN  \n",
       "5431  2015-01-01                0      NaN  \n",
       "31109 2015-01-01                1    14.99  "
      ]
     },
     "execution_count": 4,
     "metadata": {},
     "output_type": "execute_result"
    }
   ],
   "source": [
    "# Rerading transaction data\n",
    "trans = pd.read_csv(\"Transactions_mini.csv\",sep=\",\", parse_dates=['t_dat'])\n",
    "# 9993 customer of transaction table is not present in customer dataset. Neither in A zgroup nor B group.\n",
    "\n",
    "# Merging All data\n",
    "trans['customer_no'] = trans.customer_no.astype('str')\n",
    "all_df = cust_email.merge(trans, on=['customer_no','country'], how='left')\n",
    "\n",
    "# Creating new variables for conversion and revenue analysis\n",
    "all_df['conversion_rate'] = 0\n",
    "all_df.loc[all_df.OrderID.notnull(),'conversion_rate'] = 1\n",
    "all_df['revenue'] = trans['price'] - trans['discount']\n",
    "\n",
    "# Deleting  non relevent rows\n",
    "all_df.drop(labels=['OrderID','price','discount','quantity','return'], axis = 1, inplace = True)\n",
    "\n",
    "all_df.loc[all_df['open_rate'] == 0,'revenue'] = None\n",
    "all_df.loc[all_df['open_rate'] == 0,'conversion_rate'] = 0\n",
    "\n",
    "# Sorting dataframe based on increasing transaction date\n",
    "all_df.sort_values('t_dat',inplace = True)\n",
    "\n",
    "# Creating dataframe for country wise segment analysis\n",
    "Atlantis_df = all_df.loc[all_df.country == 'Atlantis',:]\n",
    "Gilead_df   = all_df.loc[all_df.country == 'Gilead',:]\n",
    "Oceania_df  = all_df.loc[all_df.country == 'Oceania',:]\n",
    "\n",
    "all_df.sort_values('t_dat', inplace = True)\n",
    "all_df.head()\n"
   ]
  },
  {
   "cell_type": "markdown",
   "metadata": {},
   "source": [
    "<h3> Function for monte carlo simulation for distribution"
   ]
  },
  {
   "cell_type": "code",
   "execution_count": 5,
   "metadata": {},
   "outputs": [],
   "source": [
    "# Function or proportional KPI open_rate, click_rate,conversion_rate distribution\n",
    "def kpi_props(group1_df,group2_df,kpi):\n",
    "    group1_proportion = []\n",
    "    group2_proportion = []\n",
    "    \n",
    "    for i in range(10000):\n",
    "        \n",
    "        np.random.seed(i)\n",
    "        group1_data = group1_df[kpi].to_list()\n",
    "        group2_data = group2_df[kpi].to_list()\n",
    "        \n",
    "        sample1 = np.random.choice(group1_data,size = len(group1_data), replace = True)\n",
    "        sample2 = np.random.choice(group2_data,size = len(group2_data), replace = True)\n",
    "        \n",
    "        p1 = sample1.sum()/len(group1_data)\n",
    "        p2 = sample2.sum()/len(group2_data)\n",
    "        \n",
    "        group1_proportion.append(p1)\n",
    "        group2_proportion.append(p2)\n",
    "\n",
    "    return pd.DataFrame({'Group_A':group1_proportion,'Group_B':group2_proportion})\n",
    "\n",
    "# Function or continuous KPI revenue distribution\n",
    "\n",
    "def revenue_means(group1_df,group2_df,kpi = 'revenue'):\n",
    "    group1_mean = []\n",
    "    group2_mean = []\n",
    "    \n",
    "    for i in range(10000):\n",
    "        \n",
    "        np.random.seed(i)\n",
    "        group1_data = group1_df.loc[group1_df[kpi].notnull(),kpi].to_list()\n",
    "        group2_data = group2_df.loc[group2_df[kpi].notnull(),kpi].to_list()\n",
    "        \n",
    "        sample1 = np.random.choice(group1_data,size = len(group1_data), replace = True)\n",
    "        sample2 = np.random.choice(group2_data,size = len(group2_data), replace = True)\n",
    "        \n",
    "        mean1 = sample1.mean()\n",
    "        mean2 = sample2.mean()\n",
    "        \n",
    "        group1_mean.append(mean1)\n",
    "        group2_mean.append(mean2)\n",
    "\n",
    "    return pd.DataFrame({'Group_A':group1_mean,'Group_B':group2_mean})\n"
   ]
  },
  {
   "cell_type": "markdown",
   "metadata": {},
   "source": [
    "<h3> Preparing for EDA"
   ]
  },
  {
   "cell_type": "code",
   "execution_count": 6,
   "metadata": {},
   "outputs": [
    {
     "name": "stdout",
     "output_type": "stream",
     "text": [
      "      open_rate  click_rate  conversion_rate    revenue\n",
      "mean   0.708641    0.117745         0.548276  13.733935\n"
     ]
    },
    {
     "data": {
      "text/html": [
       "<div>\n",
       "<style scoped>\n",
       "    .dataframe tbody tr th:only-of-type {\n",
       "        vertical-align: middle;\n",
       "    }\n",
       "\n",
       "    .dataframe tbody tr th {\n",
       "        vertical-align: top;\n",
       "    }\n",
       "\n",
       "    .dataframe thead th {\n",
       "        text-align: right;\n",
       "    }\n",
       "</style>\n",
       "<table border=\"1\" class=\"dataframe\">\n",
       "  <thead>\n",
       "    <tr style=\"text-align: right;\">\n",
       "      <th></th>\n",
       "      <th>open_rate</th>\n",
       "      <th>click_rate</th>\n",
       "      <th>conversion_rate</th>\n",
       "      <th>revenue</th>\n",
       "    </tr>\n",
       "    <tr>\n",
       "      <th>country</th>\n",
       "      <th></th>\n",
       "      <th></th>\n",
       "      <th></th>\n",
       "      <th></th>\n",
       "    </tr>\n",
       "  </thead>\n",
       "  <tbody>\n",
       "    <tr>\n",
       "      <th>Atlantis</th>\n",
       "      <td>0.842443</td>\n",
       "      <td>0.090501</td>\n",
       "      <td>0.655598</td>\n",
       "      <td>14.073562</td>\n",
       "    </tr>\n",
       "    <tr>\n",
       "      <th>Gilead</th>\n",
       "      <td>0.650458</td>\n",
       "      <td>0.050530</td>\n",
       "      <td>0.508271</td>\n",
       "      <td>13.858562</td>\n",
       "    </tr>\n",
       "    <tr>\n",
       "      <th>Oceania</th>\n",
       "      <td>0.755171</td>\n",
       "      <td>0.380909</td>\n",
       "      <td>0.562623</td>\n",
       "      <td>12.305726</td>\n",
       "    </tr>\n",
       "  </tbody>\n",
       "</table>\n",
       "</div>"
      ],
      "text/plain": [
       "          open_rate  click_rate  conversion_rate    revenue\n",
       "country                                                    \n",
       "Atlantis   0.842443    0.090501         0.655598  14.073562\n",
       "Gilead     0.650458    0.050530         0.508271  13.858562\n",
       "Oceania    0.755171    0.380909         0.562623  12.305726"
      ]
     },
     "execution_count": 6,
     "metadata": {},
     "output_type": "execute_result"
    }
   ],
   "source": [
    "# Looking for averages and proportions in provided data\n",
    "\n",
    "# all country together\n",
    "all_data_avg = all_df.describe()\n",
    "all_data_avg = all_data_avg[all_data_avg.index =='mean']\n",
    "print(all_data_avg)\n",
    "\n",
    "# Channel wise description\n",
    "all_df.groupby('country').mean()"
   ]
  },
  {
   "cell_type": "code",
   "execution_count": 7,
   "metadata": {},
   "outputs": [],
   "source": [
    "# Separating data accourding to the treatment group\n",
    "A_group_df = all_df.loc[ all_df['Treatment_Group'] == 'Group A',['t_dat','revenue','open_rate','click_rate','conversion_rate']]\n",
    "B_group_df = all_df.loc[ all_df['Treatment_Group'] == 'Group B',['t_dat','revenue','open_rate','click_rate','conversion_rate']]\n",
    "\n",
    "# creating data for analysing distributions of KPI separately according to the treatment group\n",
    "open_dist = kpi_props(group1_df = A_group_df ,group2_df = B_group_df ,kpi = 'open_rate')\n",
    "click_dist = kpi_props(group1_df = A_group_df ,group2_df = B_group_df ,kpi = 'click_rate')\n",
    "conversion_dist = kpi_props(group1_df = A_group_df ,group2_df = B_group_df ,kpi = 'conversion_rate')\n",
    "revenue_dist = revenue_means(group1_df = A_group_df,group2_df = B_group_df,kpi = 'revenue')"
   ]
  },
  {
   "cell_type": "code",
   "execution_count": 8,
   "metadata": {},
   "outputs": [
    {
     "data": {
      "image/png": "[encoded data removed]",
      "text/plain": [
       "<matplotlib.figure.Figure at 0x214d2d75eb8>"
      ]
     },
     "metadata": {},
     "output_type": "display_data"
    }
   ],
   "source": [
    "# Visualizing using seaborn package\n",
    "fig, ax = plt.subplots(2, 2, figsize=(10, 8))\n",
    "\n",
    "g1 =sns.distplot(open_dist['Group_A'], ax= ax[0,0],label = 'Group A')\n",
    "g1 =sns.distplot(open_dist['Group_B'], ax= ax[0,0],label = 'Group B')\n",
    "g1.set_title('Fig 1.1 - Groupwise Open rate distribution')\n",
    "\n",
    "g2 =sns.distplot(click_dist['Group_A'], ax= ax[0,1],label = 'Group A')\n",
    "g2 =sns.distplot(click_dist['Group_B'], ax= ax[0,1],label = 'Group B')\n",
    "g2.set_title('Fig 1.2 - Groupwise Click rate distribution')\n",
    "\n",
    "g3 =sns.distplot(conversion_dist['Group_A'], ax= ax[1,0],label = 'Group A')\n",
    "g3 =sns.distplot(conversion_dist['Group_B'], ax= ax[1,0],label = 'Group B')\n",
    "g3.set_title('Fig 1.3 - Groupwise Conversion rate distribution')\n",
    "\n",
    "g4 =sns.distplot(revenue_dist['Group_A'], ax= ax[1,1],label = 'Group A')\n",
    "g4 =sns.distplot(revenue_dist['Group_B'], ax= ax[1,1],label = 'Group B')\n",
    "g4.set_title('Fig 1.4 - Groupwise revenue distribution')\n",
    "fig.tight_layout(pad=2)\n",
    "plt.show()"
   ]
  },
  {
   "cell_type": "code",
   "execution_count": 9,
   "metadata": {},
   "outputs": [
    {
     "data": {
      "image/png": "[encoded data removed]",
      "text/plain": [
       "<matplotlib.figure.Figure at 0x214d2de8f60>"
      ]
     },
     "metadata": {},
     "output_type": "display_data"
    }
   ],
   "source": [
    "# plot for comulative revenue over the times in the respective groups\n",
    "fig, ax = plt.subplots( figsize=(8, 6))\n",
    "g1 = sns.lineplot(x= A_group_df['t_dat'], y= A_group_df['revenue'].cumsum(),label = \"Group A\")\n",
    "g1 = sns.lineplot(x= B_group_df['t_dat'], y= B_group_df['revenue'].cumsum(), label =\"Group B\")\n",
    "g1.set_title('Fig 1.5 - Groupwise comulative sum of revenue')\n",
    "plt.show()"
   ]
  },
  {
   "cell_type": "markdown",
   "metadata": {},
   "source": [
    "<h3> Creating Function for proportion test and independent T test"
   ]
  },
  {
   "cell_type": "code",
   "execution_count": 10,
   "metadata": {},
   "outputs": [],
   "source": [
    "# Function for proportion test for dictionary of dataframes with list of KPIs  \n",
    "def p_test(df_dic,kpi_list):\n",
    "    alpha = 0.05\n",
    "    result = []\n",
    "    \n",
    "    for value in df_dic.values():\n",
    "        p_values = []\n",
    "        for kpi in kpi_list:\n",
    "            group_a = value.loc[value.Treatment_Group == 'Group A',kpi]\n",
    "            count_a = group_a.count()\n",
    "            positive_a = group_a.sum()\n",
    "    \n",
    "            group_b = value.loc[value.Treatment_Group == 'Group B',kpi]\n",
    "            count_b = group_b.count() \n",
    "            positive_b = group_b.sum()\n",
    "\n",
    "            nobs_array = np.array([count_b,count_a])\n",
    "            positive_array = np.array([positive_b,positive_a])\n",
    "\n",
    "            statistics , p_value = proportions_ztest(count= positive_array, nobs = nobs_array, value= 0, alternative='larger')\n",
    "            p_values.append(p_value)\n",
    "        result.append(p_values)\n",
    "        \n",
    "    return pd.DataFrame(result, columns= kpi_list, index = list(df_dic.keys())).transpose()\n",
    "\n",
    "# Function for Independent T test for dictionary of dataframes with list of KPIs \n",
    "def t_test(df_dic,kpi_list):\n",
    "    \n",
    "    alpha = 0.05\n",
    "    result = []\n",
    "    for value in df_dic.values():\n",
    "        p_values = []\n",
    "        for kpi in kpi_list:\n",
    "            group_a = value.loc[(value.Treatment_Group == 'Group A') & (value[kpi].notnull()),kpi]\n",
    "            group_b = value.loc[(value.Treatment_Group == 'Group B') & (value[kpi].notnull()),kpi]\n",
    "            stat, both_sided_p = stats.ttest_ind(group_b,group_a,equal_var = False)\n",
    "    \n",
    "            if stat >= 0:\n",
    "                pval = both_sided_p/2.\n",
    "            else:\n",
    "                pval = 1 - both_sided_p/2\n",
    "    \n",
    "            p_values.append(pval)\n",
    "        result.append(p_values)\n",
    "        \n",
    "    return pd.DataFrame(result, columns= kpi_list, index = list(df_dic.keys())).transpose()"
   ]
  },
  {
   "cell_type": "markdown",
   "metadata": {},
   "source": [
    "<h3> Hypothesis Testing (Single sided test) </h3>\n",
    "<br><b>H0 :</b> Proprtion with in each groups are same Pa = Pb\n",
    "<br><b> Ha:</b> Proportion in B group > A group\n",
    "<br> Confidence level of 95% is taken . Alpha = 0.05 "
   ]
  },
  {
   "cell_type": "markdown",
   "metadata": {},
   "source": [
    "<b> Using statsmodel proportion Z test ( two sample proportion)"
   ]
  },
  {
   "cell_type": "code",
   "execution_count": 13,
   "metadata": {},
   "outputs": [
    {
     "data": {
      "text/html": [
       "<style  type=\"text/css\" >\n",
       "    #T_494c2290_7dbc_11eb_bac3_5ce0c58a2de7row0_col0 {\n",
       "            color:  grey;\n",
       "        }    #T_494c2290_7dbc_11eb_bac3_5ce0c58a2de7row0_col1 {\n",
       "            color:  grey;\n",
       "        }    #T_494c2290_7dbc_11eb_bac3_5ce0c58a2de7row0_col2 {\n",
       "            color:  green;\n",
       "        }    #T_494c2290_7dbc_11eb_bac3_5ce0c58a2de7row0_col3 {\n",
       "            color:  grey;\n",
       "        }    #T_494c2290_7dbc_11eb_bac3_5ce0c58a2de7row1_col0 {\n",
       "            color:  grey;\n",
       "        }    #T_494c2290_7dbc_11eb_bac3_5ce0c58a2de7row1_col1 {\n",
       "            color:  grey;\n",
       "        }    #T_494c2290_7dbc_11eb_bac3_5ce0c58a2de7row1_col2 {\n",
       "            color:  grey;\n",
       "        }    #T_494c2290_7dbc_11eb_bac3_5ce0c58a2de7row1_col3 {\n",
       "            color:  grey;\n",
       "        }    #T_494c2290_7dbc_11eb_bac3_5ce0c58a2de7row2_col0 {\n",
       "            color:  green;\n",
       "        }    #T_494c2290_7dbc_11eb_bac3_5ce0c58a2de7row2_col1 {\n",
       "            color:  grey;\n",
       "        }    #T_494c2290_7dbc_11eb_bac3_5ce0c58a2de7row2_col2 {\n",
       "            color:  grey;\n",
       "        }    #T_494c2290_7dbc_11eb_bac3_5ce0c58a2de7row2_col3 {\n",
       "            color:  grey;\n",
       "        }</style><table id=\"T_494c2290_7dbc_11eb_bac3_5ce0c58a2de7\" ><thead>    <tr>        <th class=\"blank level0\" ></th>        <th class=\"col_heading level0 col0\" >all_country</th>        <th class=\"col_heading level0 col1\" >Atlantis</th>        <th class=\"col_heading level0 col2\" >Gilead</th>        <th class=\"col_heading level0 col3\" >Oceania</th>    </tr></thead><tbody>\n",
       "                <tr>\n",
       "                        <th id=\"T_494c2290_7dbc_11eb_bac3_5ce0c58a2de7level0_row0\" class=\"row_heading level0 row0\" >open_rate</th>\n",
       "                        <td id=\"T_494c2290_7dbc_11eb_bac3_5ce0c58a2de7row0_col0\" class=\"data row0 col0\" >0.0536516</td>\n",
       "                        <td id=\"T_494c2290_7dbc_11eb_bac3_5ce0c58a2de7row0_col1\" class=\"data row0 col1\" >0.420343</td>\n",
       "                        <td id=\"T_494c2290_7dbc_11eb_bac3_5ce0c58a2de7row0_col2\" class=\"data row0 col2\" >0.0104516</td>\n",
       "                        <td id=\"T_494c2290_7dbc_11eb_bac3_5ce0c58a2de7row0_col3\" class=\"data row0 col3\" >0.809643</td>\n",
       "            </tr>\n",
       "            <tr>\n",
       "                        <th id=\"T_494c2290_7dbc_11eb_bac3_5ce0c58a2de7level0_row1\" class=\"row_heading level0 row1\" >click_rate</th>\n",
       "                        <td id=\"T_494c2290_7dbc_11eb_bac3_5ce0c58a2de7row1_col0\" class=\"data row1 col0\" >0.435835</td>\n",
       "                        <td id=\"T_494c2290_7dbc_11eb_bac3_5ce0c58a2de7row1_col1\" class=\"data row1 col1\" >0.20773</td>\n",
       "                        <td id=\"T_494c2290_7dbc_11eb_bac3_5ce0c58a2de7row1_col2\" class=\"data row1 col2\" >0.0554597</td>\n",
       "                        <td id=\"T_494c2290_7dbc_11eb_bac3_5ce0c58a2de7row1_col3\" class=\"data row1 col3\" >0.906502</td>\n",
       "            </tr>\n",
       "            <tr>\n",
       "                        <th id=\"T_494c2290_7dbc_11eb_bac3_5ce0c58a2de7level0_row2\" class=\"row_heading level0 row2\" >conversion_rate</th>\n",
       "                        <td id=\"T_494c2290_7dbc_11eb_bac3_5ce0c58a2de7row2_col0\" class=\"data row2 col0\" >0.0488496</td>\n",
       "                        <td id=\"T_494c2290_7dbc_11eb_bac3_5ce0c58a2de7row2_col1\" class=\"data row2 col1\" >0.0620188</td>\n",
       "                        <td id=\"T_494c2290_7dbc_11eb_bac3_5ce0c58a2de7row2_col2\" class=\"data row2 col2\" >0.102511</td>\n",
       "                        <td id=\"T_494c2290_7dbc_11eb_bac3_5ce0c58a2de7row2_col3\" class=\"data row2 col3\" >0.508041</td>\n",
       "            </tr>\n",
       "    </tbody></table>"
      ],
      "text/plain": [
       "<pandas.io.formats.style.Styler at 0x214d3886fd0>"
      ]
     },
     "execution_count": 13,
     "metadata": {},
     "output_type": "execute_result"
    }
   ],
   "source": [
    "# creating list of KPIs to test\n",
    "p_kpi_list = ['open_rate','click_rate','conversion_rate']\n",
    "\n",
    "# creating dictionary of dataframes to test ( countrywise segmentation)\n",
    "df_dic = {'all_country':all_df,'Atlantis':Atlantis_df,'Gilead':Gilead_df,'Oceania':Oceania_df}\n",
    "\n",
    "# Statistically significant values are shown in green color\n",
    "result_table = p_test(df_dic= df_dic, kpi_list = p_kpi_list)\n",
    "result_table.style.applymap(lambda x: \"color: grey\" if x > 0.05 else \"color: green\")\n",
    "\n",
    "# Statistically significant values\n",
    "# open_rate - Gilead\n",
    "# conversion_rate - all_country"
   ]
  },
  {
   "cell_type": "markdown",
   "metadata": {},
   "source": [
    "<b> Testing through Independent T test"
   ]
  },
  {
   "cell_type": "code",
   "execution_count": 14,
   "metadata": {},
   "outputs": [
    {
     "data": {
      "text/html": [
       "<style  type=\"text/css\" >\n",
       "    #T_4aced51c_7dbc_11eb_879a_5ce0c58a2de7row0_col0 {\n",
       "            color:  grey;\n",
       "        }    #T_4aced51c_7dbc_11eb_879a_5ce0c58a2de7row0_col1 {\n",
       "            color:  grey;\n",
       "        }    #T_4aced51c_7dbc_11eb_879a_5ce0c58a2de7row0_col2 {\n",
       "            color:  green;\n",
       "        }    #T_4aced51c_7dbc_11eb_879a_5ce0c58a2de7row0_col3 {\n",
       "            color:  grey;\n",
       "        }    #T_4aced51c_7dbc_11eb_879a_5ce0c58a2de7row1_col0 {\n",
       "            color:  grey;\n",
       "        }    #T_4aced51c_7dbc_11eb_879a_5ce0c58a2de7row1_col1 {\n",
       "            color:  grey;\n",
       "        }    #T_4aced51c_7dbc_11eb_879a_5ce0c58a2de7row1_col2 {\n",
       "            color:  grey;\n",
       "        }    #T_4aced51c_7dbc_11eb_879a_5ce0c58a2de7row1_col3 {\n",
       "            color:  grey;\n",
       "        }    #T_4aced51c_7dbc_11eb_879a_5ce0c58a2de7row2_col0 {\n",
       "            color:  green;\n",
       "        }    #T_4aced51c_7dbc_11eb_879a_5ce0c58a2de7row2_col1 {\n",
       "            color:  grey;\n",
       "        }    #T_4aced51c_7dbc_11eb_879a_5ce0c58a2de7row2_col2 {\n",
       "            color:  grey;\n",
       "        }    #T_4aced51c_7dbc_11eb_879a_5ce0c58a2de7row2_col3 {\n",
       "            color:  grey;\n",
       "        }    #T_4aced51c_7dbc_11eb_879a_5ce0c58a2de7row3_col0 {\n",
       "            color:  grey;\n",
       "        }    #T_4aced51c_7dbc_11eb_879a_5ce0c58a2de7row3_col1 {\n",
       "            color:  grey;\n",
       "        }    #T_4aced51c_7dbc_11eb_879a_5ce0c58a2de7row3_col2 {\n",
       "            color:  grey;\n",
       "        }    #T_4aced51c_7dbc_11eb_879a_5ce0c58a2de7row3_col3 {\n",
       "            color:  grey;\n",
       "        }</style><table id=\"T_4aced51c_7dbc_11eb_879a_5ce0c58a2de7\" ><thead>    <tr>        <th class=\"blank level0\" ></th>        <th class=\"col_heading level0 col0\" >all_country</th>        <th class=\"col_heading level0 col1\" >Atlantis</th>        <th class=\"col_heading level0 col2\" >Gilead</th>        <th class=\"col_heading level0 col3\" >Oceania</th>    </tr></thead><tbody>\n",
       "                <tr>\n",
       "                        <th id=\"T_4aced51c_7dbc_11eb_879a_5ce0c58a2de7level0_row0\" class=\"row_heading level0 row0\" >open_rate</th>\n",
       "                        <td id=\"T_4aced51c_7dbc_11eb_879a_5ce0c58a2de7row0_col0\" class=\"data row0 col0\" >0.0536428</td>\n",
       "                        <td id=\"T_4aced51c_7dbc_11eb_879a_5ce0c58a2de7row0_col1\" class=\"data row0 col1\" >0.420348</td>\n",
       "                        <td id=\"T_4aced51c_7dbc_11eb_879a_5ce0c58a2de7row0_col2\" class=\"data row0 col2\" >0.0104471</td>\n",
       "                        <td id=\"T_4aced51c_7dbc_11eb_879a_5ce0c58a2de7row0_col3\" class=\"data row0 col3\" >0.80959</td>\n",
       "            </tr>\n",
       "            <tr>\n",
       "                        <th id=\"T_4aced51c_7dbc_11eb_879a_5ce0c58a2de7level0_row1\" class=\"row_heading level0 row1\" >click_rate</th>\n",
       "                        <td id=\"T_4aced51c_7dbc_11eb_879a_5ce0c58a2de7row1_col0\" class=\"data row1 col0\" >0.435837</td>\n",
       "                        <td id=\"T_4aced51c_7dbc_11eb_879a_5ce0c58a2de7row1_col1\" class=\"data row1 col1\" >0.20779</td>\n",
       "                        <td id=\"T_4aced51c_7dbc_11eb_879a_5ce0c58a2de7row1_col2\" class=\"data row1 col2\" >0.0555175</td>\n",
       "                        <td id=\"T_4aced51c_7dbc_11eb_879a_5ce0c58a2de7row1_col3\" class=\"data row1 col3\" >0.906505</td>\n",
       "            </tr>\n",
       "            <tr>\n",
       "                        <th id=\"T_4aced51c_7dbc_11eb_879a_5ce0c58a2de7level0_row2\" class=\"row_heading level0 row2\" >conversion_rate</th>\n",
       "                        <td id=\"T_4aced51c_7dbc_11eb_879a_5ce0c58a2de7row2_col0\" class=\"data row2 col0\" >0.0488489</td>\n",
       "                        <td id=\"T_4aced51c_7dbc_11eb_879a_5ce0c58a2de7row2_col1\" class=\"data row2 col1\" >0.0620129</td>\n",
       "                        <td id=\"T_4aced51c_7dbc_11eb_879a_5ce0c58a2de7row2_col2\" class=\"data row2 col2\" >0.102515</td>\n",
       "                        <td id=\"T_4aced51c_7dbc_11eb_879a_5ce0c58a2de7row2_col3\" class=\"data row2 col3\" >0.50804</td>\n",
       "            </tr>\n",
       "            <tr>\n",
       "                        <th id=\"T_4aced51c_7dbc_11eb_879a_5ce0c58a2de7level0_row3\" class=\"row_heading level0 row3\" >revenue</th>\n",
       "                        <td id=\"T_4aced51c_7dbc_11eb_879a_5ce0c58a2de7row3_col0\" class=\"data row3 col0\" >0.392107</td>\n",
       "                        <td id=\"T_4aced51c_7dbc_11eb_879a_5ce0c58a2de7row3_col1\" class=\"data row3 col1\" >0.260475</td>\n",
       "                        <td id=\"T_4aced51c_7dbc_11eb_879a_5ce0c58a2de7row3_col2\" class=\"data row3 col2\" >0.5577</td>\n",
       "                        <td id=\"T_4aced51c_7dbc_11eb_879a_5ce0c58a2de7row3_col3\" class=\"data row3 col3\" >0.482348</td>\n",
       "            </tr>\n",
       "    </tbody></table>"
      ],
      "text/plain": [
       "<pandas.io.formats.style.Styler at 0x214d374a748>"
      ]
     },
     "execution_count": 14,
     "metadata": {},
     "output_type": "execute_result"
    }
   ],
   "source": [
    "# Also verifying results with Z Proportion test\n",
    "# creating list of KPIs to test\n",
    "t_kpi_list = ['open_rate','click_rate','conversion_rate','revenue']\n",
    "\n",
    "# creating dictionary of dataframes to test ( countrywise segmentation)\n",
    "df_dic = {'all_country':all_df,'Atlantis':Atlantis_df,'Gilead':Gilead_df,'Oceania':Oceania_df}\n",
    "\n",
    "# Statistically significant values are shown in green color\n",
    "result_table = t_test(df_dic= df_dic, kpi_list = t_kpi_list)\n",
    "result_table.style.applymap(lambda x: \"color: grey\" if x > 0.05 else \"color: green\")\n",
    "\n",
    "# Statistically significant values\n",
    "# open_rate - Gilead\n",
    "# conversion_rate - all_country"
   ]
  }
 ],
 "metadata": {
  "kernelspec": {
   "display_name": "Python 3",
   "language": "python",
   "name": "python3"
  },
  "language_info": {
   "codemirror_mode": {
    "name": "ipython",
    "version": 3
   },
   "file_extension": ".py",
   "mimetype": "text/x-python",
   "name": "python",
   "nbconvert_exporter": "python",
   "pygments_lexer": "ipython3",
   "version": "3.6.4"
  }
 },
 "nbformat": 4,
 "nbformat_minor": 2
}
